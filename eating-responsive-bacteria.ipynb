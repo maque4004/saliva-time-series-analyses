{
 "cells": [
  {
   "cell_type": "code",
   "execution_count": 1,
   "metadata": {
    "ExecuteTime": {
     "end_time": "2021-04-22T06:39:04.157456Z",
     "start_time": "2021-04-22T06:39:02.962351Z"
    }
   },
   "outputs": [],
   "source": [
    "import dill\n",
    "import pandas as pd\n",
    "import numpy as np\n",
    "import calour as ca\n",
    "from bisect import bisect_right\n",
    "from itertools import combinations\n",
    "\n",
    "from matplotlib import pyplot as plt"
   ]
  },
  {
   "cell_type": "code",
   "execution_count": 2,
   "metadata": {},
   "outputs": [],
   "source": [
    "%matplotlib inline"
   ]
  },
  {
   "cell_type": "code",
   "execution_count": 3,
   "metadata": {
    "ExecuteTime": {
     "end_time": "2021-04-22T06:39:04.162505Z",
     "start_time": "2021-04-22T06:39:04.159427Z"
    }
   },
   "outputs": [],
   "source": [
    "pd.set_option('max_colwidth', 200)\n",
    "pd.set_option('max_rows', 1000)\n",
    "pd.set_option('max_columns', 1000)"
   ]
  },
  {
   "cell_type": "markdown",
   "metadata": {},
   "source": [
    "# import relative abundance ASV table and events windows"
   ]
  },
  {
   "cell_type": "code",
   "execution_count": 4,
   "metadata": {
    "ExecuteTime": {
     "end_time": "2021-04-02T01:18:31.134051Z",
     "start_time": "2021-04-02T01:18:31.101054Z"
    }
   },
   "outputs": [],
   "source": [
    "with open('../data/ASV-table-and-eat-windows-for-MA.pkl', 'rb') as f:\n",
    "    saliva_ma, ma_eat_windows = dill.load(f)"
   ]
  },
  {
   "cell_type": "markdown",
   "metadata": {
    "ExecuteTime": {
     "end_time": "2021-04-02T01:18:32.768784Z",
     "start_time": "2021-04-02T01:18:32.762666Z"
    }
   },
   "source": [
    "**saliva_ma**: calour.AmpliconExperiment  \n",
    "relative abundance table of MA samples.  \n",
    "**ma_eat_windows**: tuple of tuples\n",
    "((eat_start_timepoint1, eat_end_timepoint1), (eat_start_timepoint2, eat_end_timepoint2)...)  \n",
    "each tuple is an eating window.  "
   ]
  },
  {
   "cell_type": "code",
   "execution_count": 5,
   "metadata": {
    "ExecuteTime": {
     "end_time": "2021-04-02T01:18:32.971189Z",
     "start_time": "2021-04-02T01:18:32.965049Z"
    }
   },
   "outputs": [
    {
     "data": {
      "text/plain": [
       "AmpliconExperiment with 207 samples, 531 features"
      ]
     },
     "execution_count": 5,
     "metadata": {},
     "output_type": "execute_result"
    }
   ],
   "source": [
    "# sample and feature counts of each subject\n",
    "saliva_ma"
   ]
  },
  {
   "cell_type": "code",
   "execution_count": 6,
   "metadata": {},
   "outputs": [
    {
     "data": {
      "text/html": [
       "<div>\n",
       "<style scoped>\n",
       "    .dataframe tbody tr th:only-of-type {\n",
       "        vertical-align: middle;\n",
       "    }\n",
       "\n",
       "    .dataframe tbody tr th {\n",
       "        vertical-align: top;\n",
       "    }\n",
       "\n",
       "    .dataframe thead th {\n",
       "        text-align: right;\n",
       "    }\n",
       "</style>\n",
       "<table border=\"1\" class=\"dataframe\">\n",
       "  <thead>\n",
       "    <tr style=\"text-align: right;\">\n",
       "      <th></th>\n",
       "      <th>BarcodeSequence</th>\n",
       "      <th>Primer_Plate</th>\n",
       "      <th>Well_ID</th>\n",
       "      <th>Plating</th>\n",
       "      <th>Extraction_robot</th>\n",
       "      <th>TM1000_8_tool</th>\n",
       "      <th>Processing_robot</th>\n",
       "      <th>TM300_8_tool</th>\n",
       "      <th>TM50_8_tool</th>\n",
       "      <th>Orig_name</th>\n",
       "      <th>Description</th>\n",
       "      <th>drink</th>\n",
       "      <th>Host_ID</th>\n",
       "      <th>Barcode</th>\n",
       "      <th>eat</th>\n",
       "      <th>other</th>\n",
       "      <th>sleep</th>\n",
       "      <th>events</th>\n",
       "      <th>body site</th>\n",
       "      <th>Day</th>\n",
       "      <th>Hour</th>\n",
       "      <th>Min</th>\n",
       "      <th>dayhourmin</th>\n",
       "      <th>DATETIME</th>\n",
       "      <th>_sample_id</th>\n",
       "      <th>_calour_original_abundance</th>\n",
       "      <th>observed_otus</th>\n",
       "      <th>shannon</th>\n",
       "      <th>faith_pd</th>\n",
       "    </tr>\n",
       "    <tr>\n",
       "      <th>#SampleID</th>\n",
       "      <th></th>\n",
       "      <th></th>\n",
       "      <th></th>\n",
       "      <th></th>\n",
       "      <th></th>\n",
       "      <th></th>\n",
       "      <th></th>\n",
       "      <th></th>\n",
       "      <th></th>\n",
       "      <th></th>\n",
       "      <th></th>\n",
       "      <th></th>\n",
       "      <th></th>\n",
       "      <th></th>\n",
       "      <th></th>\n",
       "      <th></th>\n",
       "      <th></th>\n",
       "      <th></th>\n",
       "      <th></th>\n",
       "      <th></th>\n",
       "      <th></th>\n",
       "      <th></th>\n",
       "      <th></th>\n",
       "      <th></th>\n",
       "      <th></th>\n",
       "      <th></th>\n",
       "      <th></th>\n",
       "      <th></th>\n",
       "      <th></th>\n",
       "    </tr>\n",
       "  </thead>\n",
       "  <tbody>\n",
       "    <tr>\n",
       "      <th>19122</th>\n",
       "      <td>ATCGTAGTGGTC</td>\n",
       "      <td>2</td>\n",
       "      <td>F6</td>\n",
       "      <td>GG</td>\n",
       "      <td>NEWE</td>\n",
       "      <td>311172B</td>\n",
       "      <td>ROBE</td>\n",
       "      <td>311313B</td>\n",
       "      <td>111075B</td>\n",
       "      <td>19122</td>\n",
       "      <td>Amnon_Med_2_19122_F6</td>\n",
       "      <td>NaN</td>\n",
       "      <td>MA</td>\n",
       "      <td>19122</td>\n",
       "      <td>NaN</td>\n",
       "      <td>NaN</td>\n",
       "      <td>yes</td>\n",
       "      <td>sleep</td>\n",
       "      <td>saliva</td>\n",
       "      <td>1</td>\n",
       "      <td>7</td>\n",
       "      <td>0</td>\n",
       "      <td>1:07:00</td>\n",
       "      <td>2014-09-15 07:00:00</td>\n",
       "      <td>19122</td>\n",
       "      <td>13584.0</td>\n",
       "      <td>75</td>\n",
       "      <td>3.633408</td>\n",
       "      <td>6.924340</td>\n",
       "    </tr>\n",
       "    <tr>\n",
       "      <th>19123</th>\n",
       "      <td>GCTGCCCACCTA</td>\n",
       "      <td>2</td>\n",
       "      <td>C5</td>\n",
       "      <td>GG</td>\n",
       "      <td>NEWE</td>\n",
       "      <td>311172B</td>\n",
       "      <td>ROBE</td>\n",
       "      <td>311313B</td>\n",
       "      <td>111075B</td>\n",
       "      <td>19123</td>\n",
       "      <td>Amnon_Med_2_19123_C5</td>\n",
       "      <td>NaN</td>\n",
       "      <td>MA</td>\n",
       "      <td>19123</td>\n",
       "      <td>NaN</td>\n",
       "      <td>NaN</td>\n",
       "      <td>NaN</td>\n",
       "      <td>NaN</td>\n",
       "      <td>saliva</td>\n",
       "      <td>1</td>\n",
       "      <td>7</td>\n",
       "      <td>30</td>\n",
       "      <td>1:07:30</td>\n",
       "      <td>2014-09-15 07:30:00</td>\n",
       "      <td>19123</td>\n",
       "      <td>5040.0</td>\n",
       "      <td>71</td>\n",
       "      <td>3.998352</td>\n",
       "      <td>7.172192</td>\n",
       "    </tr>\n",
       "  </tbody>\n",
       "</table>\n",
       "</div>"
      ],
      "text/plain": [
       "          BarcodeSequence  Primer_Plate Well_ID Plating Extraction_robot  \\\n",
       "#SampleID                                                                  \n",
       "19122        ATCGTAGTGGTC             2      F6      GG             NEWE   \n",
       "19123        GCTGCCCACCTA             2      C5      GG             NEWE   \n",
       "\n",
       "          TM1000_8_tool Processing_robot TM300_8_tool TM50_8_tool  Orig_name  \\\n",
       "#SampleID                                                                      \n",
       "19122           311172B             ROBE      311313B     111075B      19122   \n",
       "19123           311172B             ROBE      311313B     111075B      19123   \n",
       "\n",
       "                    Description drink Host_ID  Barcode  eat other sleep  \\\n",
       "#SampleID                                                                 \n",
       "19122      Amnon_Med_2_19122_F6   NaN      MA    19122  NaN   NaN   yes   \n",
       "19123      Amnon_Med_2_19123_C5   NaN      MA    19123  NaN   NaN   NaN   \n",
       "\n",
       "          events body site  Day  Hour  Min dayhourmin            DATETIME  \\\n",
       "#SampleID                                                                   \n",
       "19122      sleep    saliva    1     7    0    1:07:00 2014-09-15 07:00:00   \n",
       "19123        NaN    saliva    1     7   30    1:07:30 2014-09-15 07:30:00   \n",
       "\n",
       "          _sample_id  _calour_original_abundance  observed_otus   shannon  \\\n",
       "#SampleID                                                                   \n",
       "19122          19122                     13584.0             75  3.633408   \n",
       "19123          19123                      5040.0             71  3.998352   \n",
       "\n",
       "           faith_pd  \n",
       "#SampleID            \n",
       "19122      6.924340  \n",
       "19123      7.172192  "
      ]
     },
     "execution_count": 6,
     "metadata": {},
     "output_type": "execute_result"
    }
   ],
   "source": [
    "# display sample metadata\n",
    "saliva_ma.sample_metadata.head(2)"
   ]
  },
  {
   "cell_type": "code",
   "execution_count": 7,
   "metadata": {},
   "outputs": [
    {
     "data": {
      "text/html": [
       "<div>\n",
       "<style scoped>\n",
       "    .dataframe tbody tr th:only-of-type {\n",
       "        vertical-align: middle;\n",
       "    }\n",
       "\n",
       "    .dataframe tbody tr th {\n",
       "        vertical-align: top;\n",
       "    }\n",
       "\n",
       "    .dataframe thead th {\n",
       "        text-align: right;\n",
       "    }\n",
       "</style>\n",
       "<table border=\"1\" class=\"dataframe\">\n",
       "  <thead>\n",
       "    <tr style=\"text-align: right;\">\n",
       "      <th></th>\n",
       "      <th>_feature_id</th>\n",
       "      <th>taxonomy</th>\n",
       "      <th>taxa</th>\n",
       "      <th>kingdom</th>\n",
       "      <th>phylum</th>\n",
       "      <th>class</th>\n",
       "      <th>order</th>\n",
       "      <th>family</th>\n",
       "      <th>genus</th>\n",
       "      <th>species</th>\n",
       "    </tr>\n",
       "  </thead>\n",
       "  <tbody>\n",
       "    <tr>\n",
       "      <th>AACATAGGGGGCAAGCGTTGTCCGGAATCACTGGGCGTAAAGGGCGCGCAGGCGGTAAATTAAGTCAGGTGTGAAAGTTCGGGGCTCAACCCCGTGATTGCACCTGATACTGATAAACTAGAGTGTTGGAGAGGTAAGTGGAATTCCTAG</th>\n",
       "      <td>AACATAGGGGGCAAGCGTTGTCCGGAATCACTGGGCGTAAAGGGCGCGCAGGCGGTAAATTAAGTCAGGTGTGAAAGTTCGGGGCTCAACCCCGTGATTGCACCTGATACTGATAAACTAGAGTGTTGGAGAGGTAAGTGGAATTCCTAG</td>\n",
       "      <td>k__Bacteria;p__Firmicutes;c__Clostridia;o__Clostridiales;f__Peptococcaceae;g__Peptococcus;s__sp._HMT_167</td>\n",
       "      <td>s__sp._HMT_167</td>\n",
       "      <td>k__Bacteria</td>\n",
       "      <td>p__Firmicutes</td>\n",
       "      <td>c__Clostridia</td>\n",
       "      <td>o__Clostridiales</td>\n",
       "      <td>f__Peptococcaceae</td>\n",
       "      <td>g__Peptococcus</td>\n",
       "      <td>s__sp._HMT_167</td>\n",
       "    </tr>\n",
       "    <tr>\n",
       "      <th>AGCGGAGGGTGCGAGCGTTAATCGGAATAACTGGGCGTAAAGGGCACGCAGGCGGTGACTTAAGTGAGGTGTGAAAGCCCCGGGCTTAACCTGGGAATTGCATTTCATACTGGGTCGCTAGAGTACTTTAGGGAGGGGTAGAATTCCACG</th>\n",
       "      <td>AGCGGAGGGTGCGAGCGTTAATCGGAATAACTGGGCGTAAAGGGCACGCAGGCGGTGACTTAAGTGAGGTGTGAAAGCCCCGGGCTTAACCTGGGAATTGCATTTCATACTGGGTCGCTAGAGTACTTTAGGGAGGGGTAGAATTCCACG</td>\n",
       "      <td>k__Bacteria;p__Proteobacteria;c__Gammaproteobacteria;o__Pasteurellales;f__Pasteurellaceae;g__Haemophilus;s__parainfluenzae</td>\n",
       "      <td>s__parainfluenzae</td>\n",
       "      <td>k__Bacteria</td>\n",
       "      <td>p__Proteobacteria</td>\n",
       "      <td>c__Gammaproteobacteria</td>\n",
       "      <td>o__Pasteurellales</td>\n",
       "      <td>f__Pasteurellaceae</td>\n",
       "      <td>g__Haemophilus</td>\n",
       "      <td>s__parainfluenzae</td>\n",
       "    </tr>\n",
       "  </tbody>\n",
       "</table>\n",
       "</div>"
      ],
      "text/plain": [
       "                                                                                                                                                                                                                                                                                                   _feature_id  \\\n",
       "AACATAGGGGGCAAGCGTTGTCCGGAATCACTGGGCGTAAAGGGCGCGCAGGCGGTAAATTAAGTCAGGTGTGAAAGTTCGGGGCTCAACCCCGTGATTGCACCTGATACTGATAAACTAGAGTGTTGGAGAGGTAAGTGGAATTCCTAG  AACATAGGGGGCAAGCGTTGTCCGGAATCACTGGGCGTAAAGGGCGCGCAGGCGGTAAATTAAGTCAGGTGTGAAAGTTCGGGGCTCAACCCCGTGATTGCACCTGATACTGATAAACTAGAGTGTTGGAGAGGTAAGTGGAATTCCTAG   \n",
       "AGCGGAGGGTGCGAGCGTTAATCGGAATAACTGGGCGTAAAGGGCACGCAGGCGGTGACTTAAGTGAGGTGTGAAAGCCCCGGGCTTAACCTGGGAATTGCATTTCATACTGGGTCGCTAGAGTACTTTAGGGAGGGGTAGAATTCCACG  AGCGGAGGGTGCGAGCGTTAATCGGAATAACTGGGCGTAAAGGGCACGCAGGCGGTGACTTAAGTGAGGTGTGAAAGCCCCGGGCTTAACCTGGGAATTGCATTTCATACTGGGTCGCTAGAGTACTTTAGGGAGGGGTAGAATTCCACG   \n",
       "\n",
       "                                                                                                                                                                                                                                                                          taxonomy  \\\n",
       "AACATAGGGGGCAAGCGTTGTCCGGAATCACTGGGCGTAAAGGGCGCGCAGGCGGTAAATTAAGTCAGGTGTGAAAGTTCGGGGCTCAACCCCGTGATTGCACCTGATACTGATAAACTAGAGTGTTGGAGAGGTAAGTGGAATTCCTAG                    k__Bacteria;p__Firmicutes;c__Clostridia;o__Clostridiales;f__Peptococcaceae;g__Peptococcus;s__sp._HMT_167   \n",
       "AGCGGAGGGTGCGAGCGTTAATCGGAATAACTGGGCGTAAAGGGCACGCAGGCGGTGACTTAAGTGAGGTGTGAAAGCCCCGGGCTTAACCTGGGAATTGCATTTCATACTGGGTCGCTAGAGTACTTTAGGGAGGGGTAGAATTCCACG  k__Bacteria;p__Proteobacteria;c__Gammaproteobacteria;o__Pasteurellales;f__Pasteurellaceae;g__Haemophilus;s__parainfluenzae   \n",
       "\n",
       "                                                                                                                                                                     taxa  \\\n",
       "AACATAGGGGGCAAGCGTTGTCCGGAATCACTGGGCGTAAAGGGCGCGCAGGCGGTAAATTAAGTCAGGTGTGAAAGTTCGGGGCTCAACCCCGTGATTGCACCTGATACTGATAAACTAGAGTGTTGGAGAGGTAAGTGGAATTCCTAG     s__sp._HMT_167   \n",
       "AGCGGAGGGTGCGAGCGTTAATCGGAATAACTGGGCGTAAAGGGCACGCAGGCGGTGACTTAAGTGAGGTGTGAAAGCCCCGGGCTTAACCTGGGAATTGCATTTCATACTGGGTCGCTAGAGTACTTTAGGGAGGGGTAGAATTCCACG  s__parainfluenzae   \n",
       "\n",
       "                                                                                                                                                            kingdom  \\\n",
       "AACATAGGGGGCAAGCGTTGTCCGGAATCACTGGGCGTAAAGGGCGCGCAGGCGGTAAATTAAGTCAGGTGTGAAAGTTCGGGGCTCAACCCCGTGATTGCACCTGATACTGATAAACTAGAGTGTTGGAGAGGTAAGTGGAATTCCTAG  k__Bacteria   \n",
       "AGCGGAGGGTGCGAGCGTTAATCGGAATAACTGGGCGTAAAGGGCACGCAGGCGGTGACTTAAGTGAGGTGTGAAAGCCCCGGGCTTAACCTGGGAATTGCATTTCATACTGGGTCGCTAGAGTACTTTAGGGAGGGGTAGAATTCCACG  k__Bacteria   \n",
       "\n",
       "                                                                                                                                                                   phylum  \\\n",
       "AACATAGGGGGCAAGCGTTGTCCGGAATCACTGGGCGTAAAGGGCGCGCAGGCGGTAAATTAAGTCAGGTGTGAAAGTTCGGGGCTCAACCCCGTGATTGCACCTGATACTGATAAACTAGAGTGTTGGAGAGGTAAGTGGAATTCCTAG      p__Firmicutes   \n",
       "AGCGGAGGGTGCGAGCGTTAATCGGAATAACTGGGCGTAAAGGGCACGCAGGCGGTGACTTAAGTGAGGTGTGAAAGCCCCGGGCTTAACCTGGGAATTGCATTTCATACTGGGTCGCTAGAGTACTTTAGGGAGGGGTAGAATTCCACG  p__Proteobacteria   \n",
       "\n",
       "                                                                                                                                                                         class  \\\n",
       "AACATAGGGGGCAAGCGTTGTCCGGAATCACTGGGCGTAAAGGGCGCGCAGGCGGTAAATTAAGTCAGGTGTGAAAGTTCGGGGCTCAACCCCGTGATTGCACCTGATACTGATAAACTAGAGTGTTGGAGAGGTAAGTGGAATTCCTAG           c__Clostridia   \n",
       "AGCGGAGGGTGCGAGCGTTAATCGGAATAACTGGGCGTAAAGGGCACGCAGGCGGTGACTTAAGTGAGGTGTGAAAGCCCCGGGCTTAACCTGGGAATTGCATTTCATACTGGGTCGCTAGAGTACTTTAGGGAGGGGTAGAATTCCACG  c__Gammaproteobacteria   \n",
       "\n",
       "                                                                                                                                                                    order  \\\n",
       "AACATAGGGGGCAAGCGTTGTCCGGAATCACTGGGCGTAAAGGGCGCGCAGGCGGTAAATTAAGTCAGGTGTGAAAGTTCGGGGCTCAACCCCGTGATTGCACCTGATACTGATAAACTAGAGTGTTGGAGAGGTAAGTGGAATTCCTAG   o__Clostridiales   \n",
       "AGCGGAGGGTGCGAGCGTTAATCGGAATAACTGGGCGTAAAGGGCACGCAGGCGGTGACTTAAGTGAGGTGTGAAAGCCCCGGGCTTAACCTGGGAATTGCATTTCATACTGGGTCGCTAGAGTACTTTAGGGAGGGGTAGAATTCCACG  o__Pasteurellales   \n",
       "\n",
       "                                                                                                                                                                    family  \\\n",
       "AACATAGGGGGCAAGCGTTGTCCGGAATCACTGGGCGTAAAGGGCGCGCAGGCGGTAAATTAAGTCAGGTGTGAAAGTTCGGGGCTCAACCCCGTGATTGCACCTGATACTGATAAACTAGAGTGTTGGAGAGGTAAGTGGAATTCCTAG   f__Peptococcaceae   \n",
       "AGCGGAGGGTGCGAGCGTTAATCGGAATAACTGGGCGTAAAGGGCACGCAGGCGGTGACTTAAGTGAGGTGTGAAAGCCCCGGGCTTAACCTGGGAATTGCATTTCATACTGGGTCGCTAGAGTACTTTAGGGAGGGGTAGAATTCCACG  f__Pasteurellaceae   \n",
       "\n",
       "                                                                                                                                                                 genus  \\\n",
       "AACATAGGGGGCAAGCGTTGTCCGGAATCACTGGGCGTAAAGGGCGCGCAGGCGGTAAATTAAGTCAGGTGTGAAAGTTCGGGGCTCAACCCCGTGATTGCACCTGATACTGATAAACTAGAGTGTTGGAGAGGTAAGTGGAATTCCTAG  g__Peptococcus   \n",
       "AGCGGAGGGTGCGAGCGTTAATCGGAATAACTGGGCGTAAAGGGCACGCAGGCGGTGACTTAAGTGAGGTGTGAAAGCCCCGGGCTTAACCTGGGAATTGCATTTCATACTGGGTCGCTAGAGTACTTTAGGGAGGGGTAGAATTCCACG  g__Haemophilus   \n",
       "\n",
       "                                                                                                                                                                  species  \n",
       "AACATAGGGGGCAAGCGTTGTCCGGAATCACTGGGCGTAAAGGGCGCGCAGGCGGTAAATTAAGTCAGGTGTGAAAGTTCGGGGCTCAACCCCGTGATTGCACCTGATACTGATAAACTAGAGTGTTGGAGAGGTAAGTGGAATTCCTAG     s__sp._HMT_167  \n",
       "AGCGGAGGGTGCGAGCGTTAATCGGAATAACTGGGCGTAAAGGGCACGCAGGCGGTGACTTAAGTGAGGTGTGAAAGCCCCGGGCTTAACCTGGGAATTGCATTTCATACTGGGTCGCTAGAGTACTTTAGGGAGGGGTAGAATTCCACG  s__parainfluenzae  "
      ]
     },
     "execution_count": 7,
     "metadata": {},
     "output_type": "execute_result"
    }
   ],
   "source": [
    "# display feature metadata\n",
    "saliva_ma.feature_metadata.head(2)"
   ]
  },
  {
   "cell_type": "markdown",
   "metadata": {},
   "source": [
    "# filter ASVs\n",
    "Before eat-responding bacteria analysis, we removed ASVs with low prevalence and low unique counts. "
   ]
  },
  {
   "cell_type": "markdown",
   "metadata": {},
   "source": [
    "## filter ASVs with low prevalence"
   ]
  },
  {
   "cell_type": "code",
   "execution_count": 8,
   "metadata": {
    "ExecuteTime": {
     "end_time": "2021-04-02T01:18:40.590034Z",
     "start_time": "2021-04-02T01:18:40.585971Z"
    }
   },
   "outputs": [],
   "source": [
    "prev = 0.1\n",
    "cutoff = 0.0001"
   ]
  },
  {
   "cell_type": "code",
   "execution_count": 9,
   "metadata": {
    "ExecuteTime": {
     "end_time": "2021-04-02T01:18:40.816500Z",
     "start_time": "2021-04-02T01:18:40.804684Z"
    }
   },
   "outputs": [
    {
     "data": {
      "text/plain": [
       "(AmpliconExperiment with 207 samples, 531 features,\n",
       " AmpliconExperiment with 207 samples, 176 features)"
      ]
     },
     "execution_count": 9,
     "metadata": {},
     "output_type": "execute_result"
    }
   ],
   "source": [
    "# keep features present in more than 10% of MA samples\n",
    "saliva_ma_f = saliva_ma.filter_prevalence(prev, cutoff=cutoff) \n",
    "saliva_ma, saliva_ma_f"
   ]
  },
  {
   "cell_type": "markdown",
   "metadata": {},
   "source": [
    "## filter ASVs with low unique counts"
   ]
  },
  {
   "cell_type": "code",
   "execution_count": 10,
   "metadata": {},
   "outputs": [],
   "source": [
    "n = 5 "
   ]
  },
  {
   "cell_type": "code",
   "execution_count": 11,
   "metadata": {
    "ExecuteTime": {
     "end_time": "2021-04-02T01:18:44.594068Z",
     "start_time": "2021-04-02T01:18:44.539142Z"
    }
   },
   "outputs": [
    {
     "data": {
      "text/plain": [
       "AmpliconExperiment with 207 samples, 133 features"
      ]
     },
     "execution_count": 11,
     "metadata": {},
     "output_type": "execute_result"
    }
   ],
   "source": [
    "# count unique_counts for each ASV, and compare it with cutoff, return a boolen list \n",
    "b = [len(set(saliva_ma_f[:, i])) > n + 1 for i in saliva_ma_f.feature_metadata.index]\n",
    "# filter ASVs by the boolean list\n",
    "asvs = saliva_ma_f.feature_metadata.index[b]\n",
    "# keep filtered ASVs\n",
    "saliva_ma_f.filter_ids(asvs, axis='f', inplace=True)"
   ]
  },
  {
   "cell_type": "markdown",
   "metadata": {},
   "source": [
    "# ensure that samples are sorted in time order"
   ]
  },
  {
   "cell_type": "markdown",
   "metadata": {},
   "source": [
    "samples are already sorted in time order"
   ]
  },
  {
   "cell_type": "code",
   "execution_count": 12,
   "metadata": {
    "ExecuteTime": {
     "end_time": "2021-04-02T01:18:34.633652Z",
     "start_time": "2021-04-02T01:18:34.625810Z"
    }
   },
   "outputs": [
    {
     "data": {
      "text/plain": [
       "True"
      ]
     },
     "execution_count": 12,
     "metadata": {},
     "output_type": "execute_result"
    }
   ],
   "source": [
    "saliva_ma.sample_metadata['DATETIME'].is_monotonic_increasing"
   ]
  },
  {
   "cell_type": "markdown",
   "metadata": {},
   "source": [
    "# identify eat-responding bacteria based on a z-score method\n",
    "We developed a z-score method to measure how much the abundance change induced by eating deviates from normal fluctuations for a given ASV."
   ]
  },
  {
   "cell_type": "markdown",
   "metadata": {},
   "source": [
    "Here we calulated the z-score value of one ASV in MA as a demo."
   ]
  },
  {
   "cell_type": "code",
   "execution_count": 13,
   "metadata": {},
   "outputs": [],
   "source": [
    "asv = 'TACGTAGGGTGCAAGCGTTAATCGGAATTACTGGGCGTAAAGAGTGCGCAGGCGGTTTTGCAAGACCGATGTGAAATCCCCGGGCTTAACCTGGGAACTGCATTGGTGACTGCAAGGCTAGAGTGTGTCAGAGGGAGGTGGAATTCCGCA'"
   ]
  },
  {
   "cell_type": "markdown",
   "metadata": {},
   "source": [
    "## calculate the distribution of normal fluctuations \n",
    "For each ASV in each subject, we computed a vector (D) consisting of the abundance differences between every 2 samples that were collected within 1 hr. The vector D represents the distribution of normal fluctuations in abundance for this ASV."
   ]
  },
  {
   "cell_type": "code",
   "execution_count": 14,
   "metadata": {},
   "outputs": [],
   "source": [
    "tps = saliva_ma.sample_metadata['DATETIME'].tolist() # sampling datetime\n",
    "abund = saliva_ma[:, asv] # relative abundance"
   ]
  },
  {
   "cell_type": "code",
   "execution_count": 15,
   "metadata": {
    "ExecuteTime": {
     "end_time": "2020-12-06T16:12:44.089862Z",
     "start_time": "2020-12-06T16:12:44.085935Z"
    }
   },
   "outputs": [],
   "source": [
    "window = '1H' "
   ]
  },
  {
   "cell_type": "code",
   "execution_count": 16,
   "metadata": {},
   "outputs": [],
   "source": [
    "def monotonic(lst):\n",
    "    '''test if the list is monotonic'''\n",
    "    diff = np.diff(lst)\n",
    "    return np.all(diff <= 0) or np.all(diff >= 0)"
   ]
  },
  {
   "cell_type": "code",
   "execution_count": 17,
   "metadata": {},
   "outputs": [],
   "source": [
    "def calc_abund_diff(abund_lst, tps_lst):\n",
    "    '''calculate the monotonic abundance difference.\n",
    "    abund_list : list\n",
    "    tps_list : list\n",
    "        abund_list and tps_list should be paired\n",
    "    \n",
    "    returns\n",
    "    -------\n",
    "    max_value, t_start, t_end\n",
    "    max_value is the monotonic abundance difference within this time window.\n",
    "    t_start and t_end are timestamps.\n",
    "    max_value = the relative abundance at t_end - the relative abundance at t_start\n",
    "    '''\n",
    "    from itertools import combinations\n",
    "    v_abs_max = 0\n",
    "    v_a = 0\n",
    "    v_b = 0\n",
    "    # calculate the diff between every two data\n",
    "    for a, b in combinations(range(len(abund_lst)), 2): \n",
    "        if monotonic(abund_lst[a:b]): # make sure the list is monotonic\n",
    "            v = abund_lst[b] - abund_lst[a] # b is always greater than a\n",
    "            v_abs_max = max([v_abs_max, v], key=abs) # update the max value\n",
    "            if v_abs_max == v: # update the index to get tps\n",
    "                v_a = a\n",
    "                v_b = b\n",
    "    return v_abs_max, tps_lst[v_a], tps_lst[v_b]"
   ]
  },
  {
   "cell_type": "code",
   "execution_count": 18,
   "metadata": {},
   "outputs": [],
   "source": [
    "# calculate the distribution of normal fluctuations\n",
    "v_ta_tb = [] \n",
    "for i in range(len(abund)):\n",
    "    # iterate from the first time point, slice time series to 1 hr window\n",
    "    tps_i = tps[i]\n",
    "    tps_end = tps[i] + pd.to_timedelta(window)\n",
    "    tps_end_index = bisect_right(tps, tps_end)\n",
    "    tps_within_window = tps[i:tps_end_index]\n",
    "    abund_within_window = abund[i:tps_end_index]\n",
    "    # calculate the monotomic abundance difference within the window\n",
    "    v_abs_max = 0\n",
    "    v_a = 0\n",
    "    v_b = 0\n",
    "    if len(abund_within_window) > 1:\n",
    "        v_abs_max, t_a, t_b = calc_abund_diff(abund_within_window, \n",
    "                                              tps_within_window)\n",
    "        v_ta_tb.append([v_abs_max, t_a, t_b]) "
   ]
  },
  {
   "cell_type": "code",
   "execution_count": 19,
   "metadata": {},
   "outputs": [
    {
     "data": {
      "text/plain": [
       "[0.03916960438699569,\n",
       " Timestamp('2014-09-15 07:00:00'),\n",
       " Timestamp('2014-09-15 07:30:00')]"
      ]
     },
     "execution_count": 19,
     "metadata": {},
     "output_type": "execute_result"
    }
   ],
   "source": [
    "v_ta_tb[0]"
   ]
  },
  {
   "cell_type": "code",
   "execution_count": 20,
   "metadata": {},
   "outputs": [],
   "source": [
    "# get vector D (distribution of normal fluctuations)\n",
    "D = [v_ta_tb[i][0] for i in range(len(v_ta_tb))]"
   ]
  },
  {
   "cell_type": "code",
   "execution_count": 21,
   "metadata": {},
   "outputs": [
    {
     "data": {
      "image/png": "[encoded data removed]",
      "text/plain": [
       "<Figure size 432x288 with 1 Axes>"
      ]
     },
     "metadata": {
      "needs_background": "light"
     },
     "output_type": "display_data"
    }
   ],
   "source": [
    "plt.hist(D, bins=50);"
   ]
  },
  {
   "cell_type": "markdown",
   "metadata": {},
   "source": [
    "## abundance difference induced by eating"
   ]
  },
  {
   "cell_type": "markdown",
   "metadata": {},
   "source": [
    "Next, we calculated the abundance change induced by eating.  "
   ]
  },
  {
   "cell_type": "code",
   "execution_count": 22,
   "metadata": {},
   "outputs": [],
   "source": [
    "v_abs_max_eat = []\n",
    "for t1, t2 in ma_eat_windows:\n",
    "    v = []\n",
    "    for v_abs_max, t_a, t_b in v_ta_tb:\n",
    "        # check if [t_a, t_b] in eat window [t1, t2]\n",
    "        if (t_a >= t1) and (t_b <=t2 + pd.to_timedelta(window)):\n",
    "            # if v_abs_max is negative value, and t_a is after t2, \n",
    "            # basically the ASV increased due to eating first, and decreased more after that. \n",
    "            # in this situation, we are more interested in how much it increased.\n",
    "            # so we delete the negative value even if t_a and t_b both locate within eat window.\n",
    "            if not ((v_abs_max < 0) and (t_a >= t2)):\n",
    "                v.append(v_abs_max)\n",
    "    \n",
    "    if len(v) > 0:\n",
    "        v_abs_max_eat.append(max(v, key=abs)) # the absolute max value within this window was taken as the abundance difference induced by eating"
   ]
  },
  {
   "cell_type": "markdown",
   "metadata": {},
   "source": [
    "## calculate zscore"
   ]
  },
  {
   "attachments": {
    "image.png": {
     "image/png": "[encoded data removed]"
    }
   },
   "cell_type": "markdown",
   "metadata": {},
   "source": [
    "The z-score was computed as ![image.png](attachment:image.png) for each eating time window, where d is the abundance change induced by eating, D̅ is the mean of D, σ (D) is the standard deviation of D."
   ]
  },
  {
   "cell_type": "code",
   "execution_count": 23,
   "metadata": {},
   "outputs": [],
   "source": [
    "def calc_zscore(observed_value, null_values):\n",
    "    '''calculate z-score'''\n",
    "    from scipy.stats import norm\n",
    "    null_mean = np.mean(null_values)\n",
    "    null_std = np.std(null_values)\n",
    "    z_score = (observed_value - null_mean) / null_std\n",
    "    return z_score"
   ]
  },
  {
   "cell_type": "code",
   "execution_count": 24,
   "metadata": {},
   "outputs": [
    {
     "data": {
      "text/plain": [
       "[0.29955509213708276,\n",
       " 0.44852896337395154,\n",
       " 1.2976800294241035,\n",
       " 1.7148068688873364,\n",
       " 1.9159215950571091,\n",
       " 1.7148068688873364,\n",
       " 2.5490605478138018,\n",
       " 1.3125774165477904,\n",
       " 1.6626660139544323,\n",
       " 1.707358175325493,\n",
       " 1.387064352166225,\n",
       " 1.4392052070991288,\n",
       " 0.19527338227127455,\n",
       " 1.4987947555938763,\n",
       " 4.105837502239081,\n",
       " 2.3107023538348117,\n",
       " 1.997857224237387]"
      ]
     },
     "execution_count": 24,
     "metadata": {},
     "output_type": "execute_result"
    }
   ],
   "source": [
    "asv_zscores = [calc_zscore(d, D) for d in v_abs_max_eat]\n",
    "asv_zscores"
   ]
  },
  {
   "cell_type": "markdown",
   "metadata": {},
   "source": [
    "The mean of the z-scores of all the eating windows was the final measure on how much this ASV responded to eating."
   ]
  },
  {
   "cell_type": "code",
   "execution_count": 25,
   "metadata": {},
   "outputs": [
    {
     "data": {
      "text/plain": [
       "1.6210409616970718"
      ]
     },
     "execution_count": 25,
     "metadata": {},
     "output_type": "execute_result"
    }
   ],
   "source": [
    "np.mean(asv_zscores)"
   ]
  },
  {
   "cell_type": "markdown",
   "metadata": {},
   "source": [
    "# temporal order of eat-increasing bacteria"
   ]
  },
  {
   "cell_type": "markdown",
   "metadata": {},
   "source": [
    "we intergated all the eat windows in subject MA together to reveal the temperoral response of the eat-increasing bacteria."
   ]
  },
  {
   "cell_type": "markdown",
   "metadata": {},
   "source": [
    "## eat-increasing ASVs"
   ]
  },
  {
   "cell_type": "markdown",
   "metadata": {},
   "source": [
    "Top 8 ASVs that exist in at least two individuals with highest average z-score were used to visualize the temperoal order."
   ]
  },
  {
   "cell_type": "code",
   "execution_count": 26,
   "metadata": {},
   "outputs": [],
   "source": [
    "# 4 of the ASVs were enriched in tongue samples\n",
    "asvs_tongue = ['TACGGAGGGTGCAAGCGTTACTCGGAATCACTGGGCGTAAAGGACGCGTAGGCGGATTATCAAGTCTCTTGTGAAATCCTATGGCTTAACCATAGAACTGCTTGGGAAACTGATAATCTAGAGTGAGGGAGAGGCAGATGGAATTGGTGG',\n",
    " 'TACGTATGTCGCGAGCGTTATCCGGAATTATTGGGCATAAAGGGCATCTAGGCGGATATACAAGTCAGGGGTGAAAACTTAGGGCTCAACTCAAAGCTTGCCTTTGAAACTGTATATCTAGAGTGCTGGAGAGGTGGACGGAACTACACG',\n",
    " 'TACGTAGGGGGCAAGCGTTATCCGGATTTACTGGGTGTAAAGGGAGCGTAGACGGAATGGCAAGTCTGAAGTGAAATACCCGGGCTCAACCTGGGAACTGCTTTGGAAACTGTTGTTCTAGAGTGTTGGAGAGGTAAGTGGAATTCCTGG',\n",
    " 'TACGTAGGGCGCGAGCGTTGTCCGGAATTATTGGGCGTAAAGGGCTTGTAGGCGGTTGGTCGCGTCTGCCGTGAAATTCTCTGGCTTAACTGGGGGCGTGCGGTGGGTACGGGCTGACTTGAGTGCGGTAGGGGAGACTGGAACTCCTGG']"
   ]
  },
  {
   "cell_type": "code",
   "execution_count": 27,
   "metadata": {},
   "outputs": [],
   "source": [
    "# the other 4 ASVs were enriched in dental plaque samples\n",
    "asvs_plaque = ['TACGTAGGGTGCAAGCGTTAATCGGAATTACTGGGCGTAAAGAGTGCGCAGGCGGTTTTGCAAGACCGATGTGAAATCCCCGGGCTTAACCTGGGAACTGCATTGGTGACTGCAAGGCTAGAGTGTGTCAGAGGGAGGTGGAATTCCGCA',\n",
    " 'TACGTAGGGTGCGAGCGTTAATCGGAATTACTGGGCGTAAAGCGGGCGCAGACGGTTACTTAAGCAGGATGTGAAATCCCCGGGCTCAACCTGGGAATTGCGTTCTGAACTGGGTGGCTAGAGTGTGTCAGAGGGGGGTAGAATTCCACG',\n",
    " 'TACGTAGGGCGCGAGCGTTGTCCGGAATTATTGGGCGTAAAGAGCTTGTAGGCGGTTGGTCGCGTCTGCTGTGAAAGGCCGGGGCTTAACTCCGGTTTTGCAGTGGGTACGGGCTAACTAGAGTGCAGTAGGGGAGACTGGAATTCCTGG',\n",
    " 'TACGTAGGGTGCGAGCGTTAATCGGAATTACTGGGCGTAAAGAGTGCGCAGGCGGTTTTGCAAGACCGATGTGAAATCCCCGGGCTTAACCTGGGAACTGCATTGGTGACTGCAAGGCTAGAGTGTGTCAGAGGGAGGTGGAACTCCGCA']"
   ]
  },
  {
   "cell_type": "code",
   "execution_count": 28,
   "metadata": {},
   "outputs": [
    {
     "data": {
      "text/html": [
       "<div>\n",
       "<style scoped>\n",
       "    .dataframe tbody tr th:only-of-type {\n",
       "        vertical-align: middle;\n",
       "    }\n",
       "\n",
       "    .dataframe tbody tr th {\n",
       "        vertical-align: top;\n",
       "    }\n",
       "\n",
       "    .dataframe thead th {\n",
       "        text-align: right;\n",
       "    }\n",
       "</style>\n",
       "<table border=\"1\" class=\"dataframe\">\n",
       "  <thead>\n",
       "    <tr style=\"text-align: right;\">\n",
       "      <th></th>\n",
       "      <th>TACGTAGGGTGCAAGCGTTAATCGGAATTACTGGGCGTAAAGAGTGCGCAGGCGGTTTTGCAAGACCGATGTGAAATCCCCGGGCTTAACCTGGGAACTGCATTGGTGACTGCAAGGCTAGAGTGTGTCAGAGGGAGGTGGAATTCCGCA</th>\n",
       "      <th>TACGTAGGGTGCGAGCGTTAATCGGAATTACTGGGCGTAAAGCGGGCGCAGACGGTTACTTAAGCAGGATGTGAAATCCCCGGGCTCAACCTGGGAATTGCGTTCTGAACTGGGTGGCTAGAGTGTGTCAGAGGGGGGTAGAATTCCACG</th>\n",
       "      <th>TACGTAGGGCGCGAGCGTTGTCCGGAATTATTGGGCGTAAAGAGCTTGTAGGCGGTTGGTCGCGTCTGCTGTGAAAGGCCGGGGCTTAACTCCGGTTTTGCAGTGGGTACGGGCTAACTAGAGTGCAGTAGGGGAGACTGGAATTCCTGG</th>\n",
       "      <th>TACGTAGGGTGCGAGCGTTAATCGGAATTACTGGGCGTAAAGAGTGCGCAGGCGGTTTTGCAAGACCGATGTGAAATCCCCGGGCTTAACCTGGGAACTGCATTGGTGACTGCAAGGCTAGAGTGTGTCAGAGGGAGGTGGAACTCCGCA</th>\n",
       "      <th>TACGGAGGGTGCAAGCGTTACTCGGAATCACTGGGCGTAAAGGACGCGTAGGCGGATTATCAAGTCTCTTGTGAAATCCTATGGCTTAACCATAGAACTGCTTGGGAAACTGATAATCTAGAGTGAGGGAGAGGCAGATGGAATTGGTGG</th>\n",
       "      <th>TACGTATGTCGCGAGCGTTATCCGGAATTATTGGGCATAAAGGGCATCTAGGCGGATATACAAGTCAGGGGTGAAAACTTAGGGCTCAACTCAAAGCTTGCCTTTGAAACTGTATATCTAGAGTGCTGGAGAGGTGGACGGAACTACACG</th>\n",
       "      <th>TACGTAGGGGGCAAGCGTTATCCGGATTTACTGGGTGTAAAGGGAGCGTAGACGGAATGGCAAGTCTGAAGTGAAATACCCGGGCTCAACCTGGGAACTGCTTTGGAAACTGTTGTTCTAGAGTGTTGGAGAGGTAAGTGGAATTCCTGG</th>\n",
       "      <th>TACGTAGGGCGCGAGCGTTGTCCGGAATTATTGGGCGTAAAGGGCTTGTAGGCGGTTGGTCGCGTCTGCCGTGAAATTCTCTGGCTTAACTGGGGGCGTGCGGTGGGTACGGGCTGACTTGAGTGCGGTAGGGGAGACTGGAACTCCTGG</th>\n",
       "    </tr>\n",
       "    <tr>\n",
       "      <th>DATETIME</th>\n",
       "      <th></th>\n",
       "      <th></th>\n",
       "      <th></th>\n",
       "      <th></th>\n",
       "      <th></th>\n",
       "      <th></th>\n",
       "      <th></th>\n",
       "      <th></th>\n",
       "    </tr>\n",
       "  </thead>\n",
       "  <tbody>\n",
       "    <tr>\n",
       "      <th>2014-09-15 07:00:00</th>\n",
       "      <td>0.039170</td>\n",
       "      <td>0.0</td>\n",
       "      <td>0.078339</td>\n",
       "      <td>0.03917</td>\n",
       "      <td>0.039170</td>\n",
       "      <td>0.078339</td>\n",
       "      <td>0.117509</td>\n",
       "      <td>0.039170</td>\n",
       "    </tr>\n",
       "    <tr>\n",
       "      <th>2014-09-15 07:30:00</th>\n",
       "      <td>0.078339</td>\n",
       "      <td>0.0</td>\n",
       "      <td>0.274187</td>\n",
       "      <td>0.03917</td>\n",
       "      <td>0.078339</td>\n",
       "      <td>0.195848</td>\n",
       "      <td>0.430866</td>\n",
       "      <td>0.156678</td>\n",
       "    </tr>\n",
       "  </tbody>\n",
       "</table>\n",
       "</div>"
      ],
      "text/plain": [
       "                     TACGTAGGGTGCAAGCGTTAATCGGAATTACTGGGCGTAAAGAGTGCGCAGGCGGTTTTGCAAGACCGATGTGAAATCCCCGGGCTTAACCTGGGAACTGCATTGGTGACTGCAAGGCTAGAGTGTGTCAGAGGGAGGTGGAATTCCGCA  \\\n",
       "DATETIME                                                                                                                                                                      \n",
       "2014-09-15 07:00:00                                                                                                                                                0.039170   \n",
       "2014-09-15 07:30:00                                                                                                                                                0.078339   \n",
       "\n",
       "                     TACGTAGGGTGCGAGCGTTAATCGGAATTACTGGGCGTAAAGCGGGCGCAGACGGTTACTTAAGCAGGATGTGAAATCCCCGGGCTCAACCTGGGAATTGCGTTCTGAACTGGGTGGCTAGAGTGTGTCAGAGGGGGGTAGAATTCCACG  \\\n",
       "DATETIME                                                                                                                                                                      \n",
       "2014-09-15 07:00:00                                                                                                                                                     0.0   \n",
       "2014-09-15 07:30:00                                                                                                                                                     0.0   \n",
       "\n",
       "                     TACGTAGGGCGCGAGCGTTGTCCGGAATTATTGGGCGTAAAGAGCTTGTAGGCGGTTGGTCGCGTCTGCTGTGAAAGGCCGGGGCTTAACTCCGGTTTTGCAGTGGGTACGGGCTAACTAGAGTGCAGTAGGGGAGACTGGAATTCCTGG  \\\n",
       "DATETIME                                                                                                                                                                      \n",
       "2014-09-15 07:00:00                                                                                                                                                0.078339   \n",
       "2014-09-15 07:30:00                                                                                                                                                0.274187   \n",
       "\n",
       "                     TACGTAGGGTGCGAGCGTTAATCGGAATTACTGGGCGTAAAGAGTGCGCAGGCGGTTTTGCAAGACCGATGTGAAATCCCCGGGCTTAACCTGGGAACTGCATTGGTGACTGCAAGGCTAGAGTGTGTCAGAGGGAGGTGGAACTCCGCA  \\\n",
       "DATETIME                                                                                                                                                                      \n",
       "2014-09-15 07:00:00                                                                                                                                                 0.03917   \n",
       "2014-09-15 07:30:00                                                                                                                                                 0.03917   \n",
       "\n",
       "                     TACGGAGGGTGCAAGCGTTACTCGGAATCACTGGGCGTAAAGGACGCGTAGGCGGATTATCAAGTCTCTTGTGAAATCCTATGGCTTAACCATAGAACTGCTTGGGAAACTGATAATCTAGAGTGAGGGAGAGGCAGATGGAATTGGTGG  \\\n",
       "DATETIME                                                                                                                                                                      \n",
       "2014-09-15 07:00:00                                                                                                                                                0.039170   \n",
       "2014-09-15 07:30:00                                                                                                                                                0.078339   \n",
       "\n",
       "                     TACGTATGTCGCGAGCGTTATCCGGAATTATTGGGCATAAAGGGCATCTAGGCGGATATACAAGTCAGGGGTGAAAACTTAGGGCTCAACTCAAAGCTTGCCTTTGAAACTGTATATCTAGAGTGCTGGAGAGGTGGACGGAACTACACG  \\\n",
       "DATETIME                                                                                                                                                                      \n",
       "2014-09-15 07:00:00                                                                                                                                                0.078339   \n",
       "2014-09-15 07:30:00                                                                                                                                                0.195848   \n",
       "\n",
       "                     TACGTAGGGGGCAAGCGTTATCCGGATTTACTGGGTGTAAAGGGAGCGTAGACGGAATGGCAAGTCTGAAGTGAAATACCCGGGCTCAACCTGGGAACTGCTTTGGAAACTGTTGTTCTAGAGTGTTGGAGAGGTAAGTGGAATTCCTGG  \\\n",
       "DATETIME                                                                                                                                                                      \n",
       "2014-09-15 07:00:00                                                                                                                                                0.117509   \n",
       "2014-09-15 07:30:00                                                                                                                                                0.430866   \n",
       "\n",
       "                     TACGTAGGGCGCGAGCGTTGTCCGGAATTATTGGGCGTAAAGGGCTTGTAGGCGGTTGGTCGCGTCTGCCGTGAAATTCTCTGGCTTAACTGGGGGCGTGCGGTGGGTACGGGCTGACTTGAGTGCGGTAGGGGAGACTGGAACTCCTGG  \n",
       "DATETIME                                                                                                                                                                     \n",
       "2014-09-15 07:00:00                                                                                                                                                0.039170  \n",
       "2014-09-15 07:30:00                                                                                                                                                0.156678  "
      ]
     },
     "execution_count": 28,
     "metadata": {},
     "output_type": "execute_result"
    }
   ],
   "source": [
    "table = saliva_ma.filter_ids(asvs_plaque + asvs_tongue, axis='f').to_pandas(sample_field='DATETIME')\n",
    "table.head(2)"
   ]
  },
  {
   "cell_type": "markdown",
   "metadata": {},
   "source": [
    "## intergate the eating windows"
   ]
  },
  {
   "cell_type": "code",
   "execution_count": 29,
   "metadata": {},
   "outputs": [
    {
     "data": {
      "text/plain": [
       "((Timestamp('2014-09-15 10:00:00'), Timestamp('2014-09-15 10:30:00')),\n",
       " (Timestamp('2014-09-15 13:00:00'), Timestamp('2014-09-15 13:30:00')),\n",
       " (Timestamp('2014-09-15 16:00:00'), Timestamp('2014-09-15 16:35:00')),\n",
       " (Timestamp('2014-09-15 19:00:00'), Timestamp('2014-09-15 19:45:00')),\n",
       " (Timestamp('2014-09-16 10:00:00'), Timestamp('2014-09-16 10:30:00')),\n",
       " (Timestamp('2014-09-16 14:30:00'), Timestamp('2014-09-16 15:00:00')),\n",
       " (Timestamp('2014-09-16 19:10:00'), Timestamp('2014-09-16 20:00:00')),\n",
       " (Timestamp('2014-09-17 10:00:00'), Timestamp('2014-09-17 10:30:00')),\n",
       " (Timestamp('2014-09-17 14:00:00'), Timestamp('2014-09-17 14:40:00')),\n",
       " (Timestamp('2014-09-17 19:35:00'), Timestamp('2014-09-17 20:05:00')),\n",
       " (Timestamp('2014-09-18 09:15:00'), Timestamp('2014-09-18 10:00:00')),\n",
       " (Timestamp('2014-09-18 15:00:00'), Timestamp('2014-09-18 15:40:00')),\n",
       " (Timestamp('2014-09-18 19:35:00'), Timestamp('2014-09-18 20:10:00')),\n",
       " (Timestamp('2014-09-19 10:15:00'), Timestamp('2014-09-19 10:30:00')),\n",
       " (Timestamp('2014-09-20 10:00:00'), Timestamp('2014-09-20 10:30:00')),\n",
       " (Timestamp('2014-09-19 14:45:00'), Timestamp('2014-09-19 15:20:00')),\n",
       " (Timestamp('2014-09-19 19:35:00'), Timestamp('2014-09-19 20:10:00')))"
      ]
     },
     "execution_count": 29,
     "metadata": {},
     "output_type": "execute_result"
    }
   ],
   "source": [
    "ma_eat_windows"
   ]
  },
  {
   "cell_type": "markdown",
   "metadata": {},
   "source": [
    "Each tuple within the ma_eat_windows was (eat_start_timepoint, eat_end_timepoint)  \n",
    "\n",
    "Within each eating time window, we set the eat_start_timepoint to be minute 0, then infered the abundance from 0 to 120 minutes using linear transformation. "
   ]
  },
  {
   "cell_type": "code",
   "execution_count": 30,
   "metadata": {},
   "outputs": [],
   "source": [
    "def linear_trans(asv, start, table_reference, window='2H'):\n",
    "    '''estimate the relative abundance of the ASV within \"window\"-long eating window at 1-min interval.\n",
    "    start : timestamp\n",
    "    window : default '2H'\n",
    "    table_reference : inter the relative abundance based this table\n",
    "        index: timestamp, columns: ASV sequence \n",
    "        \n",
    "    Returns\n",
    "    -------\n",
    "    pd.DataFrame\n",
    "        transformed relative abundance at every elapsed mintute.\n",
    "    '''\n",
    "    index = pd.date_range(start=start, end=start + pd.to_timedelta(window), freq='1min')\n",
    "    df = pd.DataFrame(index=index)\n",
    "    df['elapsed_minute'] = [int((i - df.index[0]).total_seconds() / 60) for i in df.index]\n",
    "    for i in df.index:\n",
    "        if i in table_reference.index:\n",
    "            df.loc[i, 'abund'] = table_reference.loc[i, asv]\n",
    "        else:\n",
    "            before = table_reference.index[table_reference.index < i][-1]\n",
    "            after = table_reference.index[table_reference.index > i][0]\n",
    "            abund = (table_reference.loc[after, asv] - table_reference.loc[before, asv]) * (i - before) / (after - before) + table_reference.loc[before, asv]\n",
    "            df.loc[i, 'abund'] = abund\n",
    "    df.set_index('elapsed_minute', inplace=True)\n",
    "    return df"
   ]
  },
  {
   "cell_type": "code",
   "execution_count": 31,
   "metadata": {},
   "outputs": [],
   "source": [
    "df_asv_median = pd.DataFrame(index=range(120),\n",
    "                             columns=asvs_tongue + asvs_plaque)\n",
    "for asv in asvs_tongue + asvs_plaque:\n",
    "    df_asv = pd.DataFrame()\n",
    "    for start, _ in ma_eat_windows:\n",
    "        df = linear_trans(asv, start, table)\n",
    "        df_asv = pd.concat([df_asv, df], axis=1, sort=False)\n",
    "    df_asv_median[asv] = df_asv.median(axis=1)"
   ]
  },
  {
   "cell_type": "code",
   "execution_count": 32,
   "metadata": {},
   "outputs": [
    {
     "data": {
      "text/plain": [
       "(120, 8)"
      ]
     },
     "execution_count": 32,
     "metadata": {},
     "output_type": "execute_result"
    }
   ],
   "source": [
    "df_asv_median.shape"
   ]
  },
  {
   "cell_type": "code",
   "execution_count": 33,
   "metadata": {},
   "outputs": [
    {
     "data": {
      "text/html": [
       "<div>\n",
       "<style scoped>\n",
       "    .dataframe tbody tr th:only-of-type {\n",
       "        vertical-align: middle;\n",
       "    }\n",
       "\n",
       "    .dataframe tbody tr th {\n",
       "        vertical-align: top;\n",
       "    }\n",
       "\n",
       "    .dataframe thead th {\n",
       "        text-align: right;\n",
       "    }\n",
       "</style>\n",
       "<table border=\"1\" class=\"dataframe\">\n",
       "  <thead>\n",
       "    <tr style=\"text-align: right;\">\n",
       "      <th></th>\n",
       "      <th>TACGGAGGGTGCAAGCGTTACTCGGAATCACTGGGCGTAAAGGACGCGTAGGCGGATTATCAAGTCTCTTGTGAAATCCTATGGCTTAACCATAGAACTGCTTGGGAAACTGATAATCTAGAGTGAGGGAGAGGCAGATGGAATTGGTGG</th>\n",
       "      <th>TACGTATGTCGCGAGCGTTATCCGGAATTATTGGGCATAAAGGGCATCTAGGCGGATATACAAGTCAGGGGTGAAAACTTAGGGCTCAACTCAAAGCTTGCCTTTGAAACTGTATATCTAGAGTGCTGGAGAGGTGGACGGAACTACACG</th>\n",
       "      <th>TACGTAGGGGGCAAGCGTTATCCGGATTTACTGGGTGTAAAGGGAGCGTAGACGGAATGGCAAGTCTGAAGTGAAATACCCGGGCTCAACCTGGGAACTGCTTTGGAAACTGTTGTTCTAGAGTGTTGGAGAGGTAAGTGGAATTCCTGG</th>\n",
       "      <th>TACGTAGGGCGCGAGCGTTGTCCGGAATTATTGGGCGTAAAGGGCTTGTAGGCGGTTGGTCGCGTCTGCCGTGAAATTCTCTGGCTTAACTGGGGGCGTGCGGTGGGTACGGGCTGACTTGAGTGCGGTAGGGGAGACTGGAACTCCTGG</th>\n",
       "      <th>TACGTAGGGTGCAAGCGTTAATCGGAATTACTGGGCGTAAAGAGTGCGCAGGCGGTTTTGCAAGACCGATGTGAAATCCCCGGGCTTAACCTGGGAACTGCATTGGTGACTGCAAGGCTAGAGTGTGTCAGAGGGAGGTGGAATTCCGCA</th>\n",
       "      <th>TACGTAGGGTGCGAGCGTTAATCGGAATTACTGGGCGTAAAGCGGGCGCAGACGGTTACTTAAGCAGGATGTGAAATCCCCGGGCTCAACCTGGGAATTGCGTTCTGAACTGGGTGGCTAGAGTGTGTCAGAGGGGGGTAGAATTCCACG</th>\n",
       "      <th>TACGTAGGGCGCGAGCGTTGTCCGGAATTATTGGGCGTAAAGAGCTTGTAGGCGGTTGGTCGCGTCTGCTGTGAAAGGCCGGGGCTTAACTCCGGTTTTGCAGTGGGTACGGGCTAACTAGAGTGCAGTAGGGGAGACTGGAATTCCTGG</th>\n",
       "      <th>TACGTAGGGTGCGAGCGTTAATCGGAATTACTGGGCGTAAAGAGTGCGCAGGCGGTTTTGCAAGACCGATGTGAAATCCCCGGGCTTAACCTGGGAACTGCATTGGTGACTGCAAGGCTAGAGTGTGTCAGAGGGAGGTGGAACTCCGCA</th>\n",
       "    </tr>\n",
       "  </thead>\n",
       "  <tbody>\n",
       "    <tr>\n",
       "      <th>0</th>\n",
       "      <td>0.117509</td>\n",
       "      <td>0.000000</td>\n",
       "      <td>0.235018</td>\n",
       "      <td>0.117509</td>\n",
       "      <td>0.430866</td>\n",
       "      <td>0.000000</td>\n",
       "      <td>0.509205</td>\n",
       "      <td>0.078339</td>\n",
       "    </tr>\n",
       "    <tr>\n",
       "      <th>1</th>\n",
       "      <td>0.123602</td>\n",
       "      <td>0.006715</td>\n",
       "      <td>0.274187</td>\n",
       "      <td>0.132306</td>\n",
       "      <td>0.420420</td>\n",
       "      <td>0.005223</td>\n",
       "      <td>0.500065</td>\n",
       "      <td>0.088784</td>\n",
       "    </tr>\n",
       "  </tbody>\n",
       "</table>\n",
       "</div>"
      ],
      "text/plain": [
       "   TACGGAGGGTGCAAGCGTTACTCGGAATCACTGGGCGTAAAGGACGCGTAGGCGGATTATCAAGTCTCTTGTGAAATCCTATGGCTTAACCATAGAACTGCTTGGGAAACTGATAATCTAGAGTGAGGGAGAGGCAGATGGAATTGGTGG  \\\n",
       "0                                                                                                                                                0.117509   \n",
       "1                                                                                                                                                0.123602   \n",
       "\n",
       "   TACGTATGTCGCGAGCGTTATCCGGAATTATTGGGCATAAAGGGCATCTAGGCGGATATACAAGTCAGGGGTGAAAACTTAGGGCTCAACTCAAAGCTTGCCTTTGAAACTGTATATCTAGAGTGCTGGAGAGGTGGACGGAACTACACG  \\\n",
       "0                                                                                                                                                0.000000   \n",
       "1                                                                                                                                                0.006715   \n",
       "\n",
       "   TACGTAGGGGGCAAGCGTTATCCGGATTTACTGGGTGTAAAGGGAGCGTAGACGGAATGGCAAGTCTGAAGTGAAATACCCGGGCTCAACCTGGGAACTGCTTTGGAAACTGTTGTTCTAGAGTGTTGGAGAGGTAAGTGGAATTCCTGG  \\\n",
       "0                                                                                                                                                0.235018   \n",
       "1                                                                                                                                                0.274187   \n",
       "\n",
       "   TACGTAGGGCGCGAGCGTTGTCCGGAATTATTGGGCGTAAAGGGCTTGTAGGCGGTTGGTCGCGTCTGCCGTGAAATTCTCTGGCTTAACTGGGGGCGTGCGGTGGGTACGGGCTGACTTGAGTGCGGTAGGGGAGACTGGAACTCCTGG  \\\n",
       "0                                                                                                                                                0.117509   \n",
       "1                                                                                                                                                0.132306   \n",
       "\n",
       "   TACGTAGGGTGCAAGCGTTAATCGGAATTACTGGGCGTAAAGAGTGCGCAGGCGGTTTTGCAAGACCGATGTGAAATCCCCGGGCTTAACCTGGGAACTGCATTGGTGACTGCAAGGCTAGAGTGTGTCAGAGGGAGGTGGAATTCCGCA  \\\n",
       "0                                                                                                                                                0.430866   \n",
       "1                                                                                                                                                0.420420   \n",
       "\n",
       "   TACGTAGGGTGCGAGCGTTAATCGGAATTACTGGGCGTAAAGCGGGCGCAGACGGTTACTTAAGCAGGATGTGAAATCCCCGGGCTCAACCTGGGAATTGCGTTCTGAACTGGGTGGCTAGAGTGTGTCAGAGGGGGGTAGAATTCCACG  \\\n",
       "0                                                                                                                                                0.000000   \n",
       "1                                                                                                                                                0.005223   \n",
       "\n",
       "   TACGTAGGGCGCGAGCGTTGTCCGGAATTATTGGGCGTAAAGAGCTTGTAGGCGGTTGGTCGCGTCTGCTGTGAAAGGCCGGGGCTTAACTCCGGTTTTGCAGTGGGTACGGGCTAACTAGAGTGCAGTAGGGGAGACTGGAATTCCTGG  \\\n",
       "0                                                                                                                                                0.509205   \n",
       "1                                                                                                                                                0.500065   \n",
       "\n",
       "   TACGTAGGGTGCGAGCGTTAATCGGAATTACTGGGCGTAAAGAGTGCGCAGGCGGTTTTGCAAGACCGATGTGAAATCCCCGGGCTTAACCTGGGAACTGCATTGGTGACTGCAAGGCTAGAGTGTGTCAGAGGGAGGTGGAACTCCGCA  \n",
       "0                                                                                                                                                0.078339  \n",
       "1                                                                                                                                                0.088784  "
      ]
     },
     "execution_count": 33,
     "metadata": {},
     "output_type": "execute_result"
    }
   ],
   "source": [
    "df_asv_median.head(2)"
   ]
  },
  {
   "cell_type": "code",
   "execution_count": 34,
   "metadata": {},
   "outputs": [],
   "source": [
    "def moving_average(series, half=10, shift=10):\n",
    "    '''moving average.\n",
    "    series : pd.Series\n",
    "    half : half length of moving window\n",
    "    shift : shift length\n",
    "    \n",
    "    returns\n",
    "    -------\n",
    "    pd.Series\n",
    "    '''\n",
    "    index = range(int(series.index[0]), int(series.index[-1]), shift)\n",
    "    s_m = pd.Series(index=index)\n",
    "    for i in s_m.index:\n",
    "        index_inc = [sid for sid in series.index if (sid >= i - half) & (sid < i + half)]\n",
    "        s_m.loc[i] = series.reindex(index_inc).mean()\n",
    "    return s_m"
   ]
  },
  {
   "cell_type": "code",
   "execution_count": 35,
   "metadata": {},
   "outputs": [
    {
     "data": {
      "text/plain": [
       "Text(0, 0.5, 'Normalized relative abundance')"
      ]
     },
     "execution_count": 35,
     "metadata": {},
     "output_type": "execute_result"
    },
    {
     "data": {
      "image/png": "[encoded data removed]",
      "text/plain": [
       "<Figure size 432x216 with 1 Axes>"
      ]
     },
     "metadata": {
      "needs_background": "light"
     },
     "output_type": "display_data"
    }
   ],
   "source": [
    "fig, ax = plt.subplots(figsize=(6, 3))\n",
    "colors = plt.get_cmap('tab20c').colors\n",
    "colors = colors[:len(asvs_tongue)] + colors[4:4+len(asvs_plaque)]\n",
    "\n",
    "for o, color in zip(asvs_tongue + asvs_plaque,\n",
    "                    colors):\n",
    "    series = df_asv_median[o]  \n",
    "    series_m = moving_average(series)\n",
    "    series_m_scale = series_m / series_m.mean()\n",
    "    taxa = ';'.join(saliva_ma.feature_metadata.loc[o, 'taxonomy'].split(';')[-2:])\n",
    "    \n",
    "    ax.plot(series_m_scale, label=taxa, linewidth=2, color=color)\n",
    "    ax.legend(bbox_to_anchor=(0, 1.7), loc='upper left', fontsize=8)\n",
    "\n",
    "ax.set_xlabel('Minutes')\n",
    "ax.set_ylabel('Normalized relative abundance')"
   ]
  },
  {
   "cell_type": "code",
   "execution_count": null,
   "metadata": {},
   "outputs": [],
   "source": []
  }
 ],
 "metadata": {
  "kernelspec": {
   "display_name": "Python [conda env:qiime2-2019.10]",
   "language": "python",
   "name": "conda-env-qiime2-2019.10-py"
  },
  "language_info": {
   "codemirror_mode": {
    "name": "ipython",
    "version": 3
   },
   "file_extension": ".py",
   "mimetype": "text/x-python",
   "name": "python",
   "nbconvert_exporter": "python",
   "pygments_lexer": "ipython3",
   "version": "3.6.7"
  },
  "toc": {
   "base_numbering": 1,
   "nav_menu": {},
   "number_sections": true,
   "sideBar": true,
   "skip_h1_title": false,
   "title_cell": "Table of Contents",
   "title_sidebar": "Contents",
   "toc_cell": false,
   "toc_position": {
    "height": "462.222px",
    "left": "326px",
    "top": "110.926px",
    "width": "285.74px"
   },
   "toc_section_display": true,
   "toc_window_display": true
  }
 },
 "nbformat": 4,
 "nbformat_minor": 4
}
